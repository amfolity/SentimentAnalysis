{
 "cells": [
  {
   "cell_type": "code",
   "execution_count": 51,
   "id": "15af61f4",
   "metadata": {},
   "outputs": [],
   "source": [
    "%matplotlib inline\n",
    "import matplotlib.pyplot as plt\n",
    "import pandas as pd\n",
    "import numpy as np\n",
    "from sklearn.model_selection import train_test_split\n",
    "import tqdm\n",
    "import torch\n",
    "import time\n",
    "import torch.nn as nn\n",
    "import torch.nn.functional as F\n",
    "from torch.utils.data import DataLoader\n",
    "import nltk\n",
    "from nltk.tokenize import WordPunctTokenizer\n",
    "from sklearn import metrics\n",
    "from bs4 import BeautifulSoup\n",
    "import re,string,unicodedata\n",
    "from IPython.display import clear_output\n",
    "\n",
    "\n",
    "device = 'cuda' if torch.cuda.is_available() else 'cpu'"
   ]
  },
  {
   "cell_type": "code",
   "execution_count": 3,
   "id": "6bc07e48",
   "metadata": {},
   "outputs": [],
   "source": [
    "imdb_data=pd.read_csv('IMDB Dataset.csv')"
   ]
  },
  {
   "cell_type": "code",
   "execution_count": 4,
   "id": "489464e7",
   "metadata": {},
   "outputs": [
    {
     "name": "stderr",
     "output_type": "stream",
     "text": [
      "400000it [00:17, 22753.01it/s]\n"
     ]
    }
   ],
   "source": [
    "gloveDict = {}\n",
    "meanWordScore = np.zeros(200)\n",
    "with open('imdbdata/glove.6B.200d.txt', 'r') as f:\n",
    "    for line in tqdm.tqdm(f):\n",
    "        lin = line.strip().split()\n",
    "        vec = np.array(list(map(float, lin[1:])))\n",
    "        gloveDict[lin[0]] = vec\n",
    "        meanWordScore += vec\n",
    "meanWordScore /= len(gloveDict)"
   ]
  },
  {
   "cell_type": "code",
   "execution_count": 5,
   "id": "5206417a",
   "metadata": {},
   "outputs": [],
   "source": [
    "def remove_tags(st):\n",
    "    result = re.sub('<.*?>',' ',st)\n",
    "    return result"
   ]
  },
  {
   "cell_type": "code",
   "execution_count": 6,
   "id": "3732be6b",
   "metadata": {},
   "outputs": [],
   "source": [
    "def remove_special_characters(text, remove_digits=True):\n",
    "    pattern=r'[^a-zA-z0-9\\s]'\n",
    "    text=re.sub(pattern,'',text) \n",
    "    return text"
   ]
  },
  {
   "cell_type": "code",
   "execution_count": 7,
   "id": "82773431",
   "metadata": {},
   "outputs": [],
   "source": [
    "def sentence_to_glove(sent : list):\n",
    "    return np.array(list(map(lambda x: gloveDict.get(x, meanWordScore), sent)))"
   ]
  },
  {
   "cell_type": "code",
   "execution_count": 8,
   "id": "c56b5661",
   "metadata": {},
   "outputs": [],
   "source": [
    "wordPunctTokenizer = WordPunctTokenizer()"
   ]
  },
  {
   "cell_type": "code",
   "execution_count": 9,
   "id": "5792beb1",
   "metadata": {},
   "outputs": [],
   "source": [
    "def word_to_idx_func():\n",
    "    counter = 0\n",
    "    word_to_idx = {}\n",
    "    mapped_sentences = []\n",
    "    for sentence in imdb_data['full_review_words']:\n",
    "        sentence_ids = []\n",
    "        for word in sentence:\n",
    "            if word in word_to_idx:\n",
    "                sentence_ids.append(word_to_idx[word])\n",
    "            else:\n",
    "                word_to_idx[word] = counter\n",
    "                counter+=1\n",
    "                sentence_ids.append(word_to_idx[word])\n",
    "        \n",
    "        mapped_sentences.append(sentence_ids) \n",
    "    imdb_data['full_review_words_idx'] = pd.Series(mapped_sentences).values\n",
    "    return word_to_idx"
   ]
  },
  {
   "cell_type": "code",
   "execution_count": 10,
   "id": "799f09ef",
   "metadata": {},
   "outputs": [],
   "source": [
    "imdb_data['sentiment'] = imdb_data['sentiment'].apply(lambda x: 1 if (x==\"positive\" or x==1) else 0)\n",
    "imdb_data['full_review']= imdb_data['review'].apply(lambda cw : remove_tags(cw))\n",
    "imdb_data['full_review_lower'] = imdb_data['full_review'].str.lower()\n",
    "imdb_data['full_review_words'] = imdb_data['full_review_lower'].apply(wordPunctTokenizer.tokenize)\n",
    "imdb_data['full_review_glove'] = imdb_data.full_review_words.apply(lambda x : sentence_to_glove(x))\n",
    "imdb_data['full_review_words_special'] = imdb_data.full_review_lower.apply(lambda x : remove_special_characters(x))\n",
    "word_to_idx = word_to_idx_func()"
   ]
  },
  {
   "cell_type": "code",
   "execution_count": 95,
   "id": "bba9c588",
   "metadata": {},
   "outputs": [
    {
     "data": {
      "image/png": "[encoded data removed]",
      "text/plain": [
       "<Figure size 640x480 with 1 Axes>"
      ]
     },
     "metadata": {},
     "output_type": "display_data"
    }
   ],
   "source": [
    "plt.hist(imdb_data.full_review_words_idx.apply(lambda x: len(x)), bins = np.linspace(0, 3000,60))\n",
    "plt.show()"
   ]
  },
  {
   "cell_type": "code",
   "execution_count": 12,
   "id": "f90eb490",
   "metadata": {},
   "outputs": [],
   "source": [
    "from sklearn.model_selection import train_test_split\n",
    "random_state = np.random.RandomState(192)"
   ]
  },
  {
   "cell_type": "code",
   "execution_count": 13,
   "id": "b211e897",
   "metadata": {},
   "outputs": [],
   "source": [
    "train, test = train_test_split(imdb_data, test_size=0.3, random_state=random_state)"
   ]
  },
  {
   "cell_type": "code",
   "execution_count": 14,
   "id": "09f16f75",
   "metadata": {},
   "outputs": [
    {
     "data": {
      "text/html": [
       "<div>\n",
       "<style scoped>\n",
       "    .dataframe tbody tr th:only-of-type {\n",
       "        vertical-align: middle;\n",
       "    }\n",
       "\n",
       "    .dataframe tbody tr th {\n",
       "        vertical-align: top;\n",
       "    }\n",
       "\n",
       "    .dataframe thead th {\n",
       "        text-align: right;\n",
       "    }\n",
       "</style>\n",
       "<table border=\"1\" class=\"dataframe\">\n",
       "  <thead>\n",
       "    <tr style=\"text-align: right;\">\n",
       "      <th></th>\n",
       "      <th>review</th>\n",
       "      <th>sentiment</th>\n",
       "      <th>full_review</th>\n",
       "      <th>full_review_lower</th>\n",
       "      <th>full_review_words</th>\n",
       "      <th>full_review_glove</th>\n",
       "      <th>full_review_words_special</th>\n",
       "      <th>full_review_words_idx</th>\n",
       "    </tr>\n",
       "  </thead>\n",
       "  <tbody>\n",
       "    <tr>\n",
       "      <th>13310</th>\n",
       "      <td>First of all, I ain't American or Middle-Easte...</td>\n",
       "      <td>0</td>\n",
       "      <td>First of all, I ain't American or Middle-Easte...</td>\n",
       "      <td>first of all, i ain't american or middle-easte...</td>\n",
       "      <td>[first, of, all, ,, i, ain, ', t, american, or...</td>\n",
       "      <td>[[-0.14931, 0.39057, -0.44791, -0.5939, -0.296...</td>\n",
       "      <td>first of all i aint american or middleeastern ...</td>\n",
       "      <td>[32, 1, 87, 23, 121, 3188, 15, 131, 2678, 56, ...</td>\n",
       "    </tr>\n",
       "    <tr>\n",
       "      <th>30050</th>\n",
       "      <td>It used to be my thinking that movies required...</td>\n",
       "      <td>0</td>\n",
       "      <td>It used to be my thinking that movies required...</td>\n",
       "      <td>it used to be my thinking that movies required...</td>\n",
       "      <td>[it, used, to, be, my, thinking, that, movies,...</td>\n",
       "      <td>[[0.21632, 0.21896, 0.12569, -0.17436, 0.17336...</td>\n",
       "      <td>it used to be my thinking that movies required...</td>\n",
       "      <td>[68, 1329, 62, 17, 501, 972, 7, 582, 4441, 768...</td>\n",
       "    </tr>\n",
       "    <tr>\n",
       "      <th>17308</th>\n",
       "      <td>After eight Moto films the series had run its ...</td>\n",
       "      <td>0</td>\n",
       "      <td>After eight Moto films the series had run its ...</td>\n",
       "      <td>after eight moto films the series had run its ...</td>\n",
       "      <td>[after, eight, moto, films, the, series, had, ...</td>\n",
       "      <td>[[-0.53799, 0.31267, -0.50511, -0.65812, -0.31...</td>\n",
       "      <td>after eight moto films the series had run its ...</td>\n",
       "      <td>[8, 3767, 60979, 664, 2, 553, 546, 1350, 37, 1...</td>\n",
       "    </tr>\n",
       "    <tr>\n",
       "      <th>809</th>\n",
       "      <td>Good Lord, what were they THINKING??!!!!!! Her...</td>\n",
       "      <td>0</td>\n",
       "      <td>Good Lord, what were they THINKING??!!!!!! Her...</td>\n",
       "      <td>good lord, what were they thinking??!!!!!! her...</td>\n",
       "      <td>[good, lord, ,, what, were, they, thinking, ??...</td>\n",
       "      <td>[[0.51507, 0.35596, 0.1571, -0.074075, -0.2544...</td>\n",
       "      <td>good lord what were they thinking here is your...</td>\n",
       "      <td>[478, 4720, 23, 28, 565, 20, 972, 16480, 658, ...</td>\n",
       "    </tr>\n",
       "    <tr>\n",
       "      <th>44184</th>\n",
       "      <td>OMG, it is seriously the best show in the worl...</td>\n",
       "      <td>1</td>\n",
       "      <td>OMG, it is seriously the best show in the worl...</td>\n",
       "      <td>omg, it is seriously the best show in the worl...</td>\n",
       "      <td>[omg, ,, it, is, seriously, the, best, show, i...</td>\n",
       "      <td>[[0.52223, -0.017557, -0.37332, 0.067787, -0.4...</td>\n",
       "      <td>omg it is seriously the best show in the world...</td>\n",
       "      <td>[15474, 23, 68, 26, 2291, 2, 470, 52, 45, 2, 4...</td>\n",
       "    </tr>\n",
       "  </tbody>\n",
       "</table>\n",
       "</div>"
      ],
      "text/plain": [
       "                                                  review  sentiment  \\\n",
       "13310  First of all, I ain't American or Middle-Easte...          0   \n",
       "30050  It used to be my thinking that movies required...          0   \n",
       "17308  After eight Moto films the series had run its ...          0   \n",
       "809    Good Lord, what were they THINKING??!!!!!! Her...          0   \n",
       "44184  OMG, it is seriously the best show in the worl...          1   \n",
       "\n",
       "                                             full_review  \\\n",
       "13310  First of all, I ain't American or Middle-Easte...   \n",
       "30050  It used to be my thinking that movies required...   \n",
       "17308  After eight Moto films the series had run its ...   \n",
       "809    Good Lord, what were they THINKING??!!!!!! Her...   \n",
       "44184  OMG, it is seriously the best show in the worl...   \n",
       "\n",
       "                                       full_review_lower  \\\n",
       "13310  first of all, i ain't american or middle-easte...   \n",
       "30050  it used to be my thinking that movies required...   \n",
       "17308  after eight moto films the series had run its ...   \n",
       "809    good lord, what were they thinking??!!!!!! her...   \n",
       "44184  omg, it is seriously the best show in the worl...   \n",
       "\n",
       "                                       full_review_words  \\\n",
       "13310  [first, of, all, ,, i, ain, ', t, american, or...   \n",
       "30050  [it, used, to, be, my, thinking, that, movies,...   \n",
       "17308  [after, eight, moto, films, the, series, had, ...   \n",
       "809    [good, lord, ,, what, were, they, thinking, ??...   \n",
       "44184  [omg, ,, it, is, seriously, the, best, show, i...   \n",
       "\n",
       "                                       full_review_glove  \\\n",
       "13310  [[-0.14931, 0.39057, -0.44791, -0.5939, -0.296...   \n",
       "30050  [[0.21632, 0.21896, 0.12569, -0.17436, 0.17336...   \n",
       "17308  [[-0.53799, 0.31267, -0.50511, -0.65812, -0.31...   \n",
       "809    [[0.51507, 0.35596, 0.1571, -0.074075, -0.2544...   \n",
       "44184  [[0.52223, -0.017557, -0.37332, 0.067787, -0.4...   \n",
       "\n",
       "                               full_review_words_special  \\\n",
       "13310  first of all i aint american or middleeastern ...   \n",
       "30050  it used to be my thinking that movies required...   \n",
       "17308  after eight moto films the series had run its ...   \n",
       "809    good lord what were they thinking here is your...   \n",
       "44184  omg it is seriously the best show in the world...   \n",
       "\n",
       "                                   full_review_words_idx  \n",
       "13310  [32, 1, 87, 23, 121, 3188, 15, 131, 2678, 56, ...  \n",
       "30050  [68, 1329, 62, 17, 501, 972, 7, 582, 4441, 768...  \n",
       "17308  [8, 3767, 60979, 664, 2, 553, 546, 1350, 37, 1...  \n",
       "809    [478, 4720, 23, 28, 565, 20, 972, 16480, 658, ...  \n",
       "44184  [15474, 23, 68, 26, 2291, 2, 470, 52, 45, 2, 4...  "
      ]
     },
     "execution_count": 14,
     "metadata": {},
     "output_type": "execute_result"
    }
   ],
   "source": [
    "test.head()"
   ]
  },
  {
   "cell_type": "markdown",
   "id": "ef492bf7",
   "metadata": {},
   "source": [
    "### Bag of words and classical method"
   ]
  },
  {
   "cell_type": "code",
   "execution_count": 15,
   "id": "038d1558",
   "metadata": {},
   "outputs": [],
   "source": [
    "from sklearn.feature_extraction.text import TfidfVectorizer\n",
    "from sklearn import metrics"
   ]
  },
  {
   "cell_type": "code",
   "execution_count": 16,
   "id": "b96486d4",
   "metadata": {},
   "outputs": [],
   "source": [
    "vec = TfidfVectorizer(stop_words='english')\n",
    "x_train_trans = vec.fit_transform(train['full_review_words_special'])\n",
    "x_test_trans=vec.transform(test['full_review_words_special'])"
   ]
  },
  {
   "cell_type": "markdown",
   "id": "be115c39",
   "metadata": {},
   "source": [
    "### Gradient boosting"
   ]
  },
  {
   "cell_type": "code",
   "execution_count": 39,
   "id": "31c38ef2",
   "metadata": {},
   "outputs": [
    {
     "name": "stdout",
     "output_type": "stream",
     "text": [
      "Fitting 5 folds for each of 6 candidates, totalling 30 fits\n"
     ]
    },
    {
     "data": {
      "text/html": [
       "<style>#sk-container-id-9 {color: black;background-color: white;}#sk-container-id-9 pre{padding: 0;}#sk-container-id-9 div.sk-toggleable {background-color: white;}#sk-container-id-9 label.sk-toggleable__label {cursor: pointer;display: block;width: 100%;margin-bottom: 0;padding: 0.3em;box-sizing: border-box;text-align: center;}#sk-container-id-9 label.sk-toggleable__label-arrow:before {content: \"▸\";float: left;margin-right: 0.25em;color: #696969;}#sk-container-id-9 label.sk-toggleable__label-arrow:hover:before {color: black;}#sk-container-id-9 div.sk-estimator:hover label.sk-toggleable__label-arrow:before {color: black;}#sk-container-id-9 div.sk-toggleable__content {max-height: 0;max-width: 0;overflow: hidden;text-align: left;background-color: #f0f8ff;}#sk-container-id-9 div.sk-toggleable__content pre {margin: 0.2em;color: black;border-radius: 0.25em;background-color: #f0f8ff;}#sk-container-id-9 input.sk-toggleable__control:checked~div.sk-toggleable__content {max-height: 200px;max-width: 100%;overflow: auto;}#sk-container-id-9 input.sk-toggleable__control:checked~label.sk-toggleable__label-arrow:before {content: \"▾\";}#sk-container-id-9 div.sk-estimator input.sk-toggleable__control:checked~label.sk-toggleable__label {background-color: #d4ebff;}#sk-container-id-9 div.sk-label input.sk-toggleable__control:checked~label.sk-toggleable__label {background-color: #d4ebff;}#sk-container-id-9 input.sk-hidden--visually {border: 0;clip: rect(1px 1px 1px 1px);clip: rect(1px, 1px, 1px, 1px);height: 1px;margin: -1px;overflow: hidden;padding: 0;position: absolute;width: 1px;}#sk-container-id-9 div.sk-estimator {font-family: monospace;background-color: #f0f8ff;border: 1px dotted black;border-radius: 0.25em;box-sizing: border-box;margin-bottom: 0.5em;}#sk-container-id-9 div.sk-estimator:hover {background-color: #d4ebff;}#sk-container-id-9 div.sk-parallel-item::after {content: \"\";width: 100%;border-bottom: 1px solid gray;flex-grow: 1;}#sk-container-id-9 div.sk-label:hover label.sk-toggleable__label {background-color: #d4ebff;}#sk-container-id-9 div.sk-serial::before {content: \"\";position: absolute;border-left: 1px solid gray;box-sizing: border-box;top: 0;bottom: 0;left: 50%;z-index: 0;}#sk-container-id-9 div.sk-serial {display: flex;flex-direction: column;align-items: center;background-color: white;padding-right: 0.2em;padding-left: 0.2em;position: relative;}#sk-container-id-9 div.sk-item {position: relative;z-index: 1;}#sk-container-id-9 div.sk-parallel {display: flex;align-items: stretch;justify-content: center;background-color: white;position: relative;}#sk-container-id-9 div.sk-item::before, #sk-container-id-9 div.sk-parallel-item::before {content: \"\";position: absolute;border-left: 1px solid gray;box-sizing: border-box;top: 0;bottom: 0;left: 50%;z-index: -1;}#sk-container-id-9 div.sk-parallel-item {display: flex;flex-direction: column;z-index: 1;position: relative;background-color: white;}#sk-container-id-9 div.sk-parallel-item:first-child::after {align-self: flex-end;width: 50%;}#sk-container-id-9 div.sk-parallel-item:last-child::after {align-self: flex-start;width: 50%;}#sk-container-id-9 div.sk-parallel-item:only-child::after {width: 0;}#sk-container-id-9 div.sk-dashed-wrapped {border: 1px dashed gray;margin: 0 0.4em 0.5em 0.4em;box-sizing: border-box;padding-bottom: 0.4em;background-color: white;}#sk-container-id-9 div.sk-label label {font-family: monospace;font-weight: bold;display: inline-block;line-height: 1.2em;}#sk-container-id-9 div.sk-label-container {text-align: center;}#sk-container-id-9 div.sk-container {/* jupyter's `normalize.less` sets `[hidden] { display: none; }` but bootstrap.min.css set `[hidden] { display: none !important; }` so we also need the `!important` here to be able to override the default hidden behavior on the sphinx rendered scikit-learn.org. See: https://github.com/scikit-learn/scikit-learn/issues/21755 */display: inline-block !important;position: relative;}#sk-container-id-9 div.sk-text-repr-fallback {display: none;}</style><div id=\"sk-container-id-9\" class=\"sk-top-container\"><div class=\"sk-text-repr-fallback\"><pre>GridSearchCV(error_score=&#x27;raise&#x27;, estimator=RandomForestClassifier(), n_jobs=-1,\n",
       "             param_grid={&#x27;max_depth&#x27;: [1, 2, 4, 6, 8, 10],\n",
       "                         &#x27;n_estimators&#x27;: [1000]},\n",
       "             verbose=4)</pre><b>In a Jupyter environment, please rerun this cell to show the HTML representation or trust the notebook. <br />On GitHub, the HTML representation is unable to render, please try loading this page with nbviewer.org.</b></div><div class=\"sk-container\" hidden><div class=\"sk-item sk-dashed-wrapped\"><div class=\"sk-label-container\"><div class=\"sk-label sk-toggleable\"><input class=\"sk-toggleable__control sk-hidden--visually\" id=\"sk-estimator-id-21\" type=\"checkbox\" ><label for=\"sk-estimator-id-21\" class=\"sk-toggleable__label sk-toggleable__label-arrow\">GridSearchCV</label><div class=\"sk-toggleable__content\"><pre>GridSearchCV(error_score=&#x27;raise&#x27;, estimator=RandomForestClassifier(), n_jobs=-1,\n",
       "             param_grid={&#x27;max_depth&#x27;: [1, 2, 4, 6, 8, 10],\n",
       "                         &#x27;n_estimators&#x27;: [1000]},\n",
       "             verbose=4)</pre></div></div></div><div class=\"sk-parallel\"><div class=\"sk-parallel-item\"><div class=\"sk-item\"><div class=\"sk-label-container\"><div class=\"sk-label sk-toggleable\"><input class=\"sk-toggleable__control sk-hidden--visually\" id=\"sk-estimator-id-22\" type=\"checkbox\" ><label for=\"sk-estimator-id-22\" class=\"sk-toggleable__label sk-toggleable__label-arrow\">estimator: RandomForestClassifier</label><div class=\"sk-toggleable__content\"><pre>RandomForestClassifier()</pre></div></div></div><div class=\"sk-serial\"><div class=\"sk-item\"><div class=\"sk-estimator sk-toggleable\"><input class=\"sk-toggleable__control sk-hidden--visually\" id=\"sk-estimator-id-23\" type=\"checkbox\" ><label for=\"sk-estimator-id-23\" class=\"sk-toggleable__label sk-toggleable__label-arrow\">RandomForestClassifier</label><div class=\"sk-toggleable__content\"><pre>RandomForestClassifier()</pre></div></div></div></div></div></div></div></div></div></div>"
      ],
      "text/plain": [
       "GridSearchCV(error_score='raise', estimator=RandomForestClassifier(), n_jobs=-1,\n",
       "             param_grid={'max_depth': [1, 2, 4, 6, 8, 10],\n",
       "                         'n_estimators': [1000]},\n",
       "             verbose=4)"
      ]
     },
     "execution_count": 39,
     "metadata": {},
     "output_type": "execute_result"
    }
   ],
   "source": [
    "from sklearn.model_selection import GridSearchCV\n",
    "from sklearn.ensemble import RandomForestClassifier\n",
    "parameters = {'n_estimators':[1000], 'max_depth':[1,2,4,6,8,10]}\n",
    "rfc = RandomForestClassifier()\n",
    "clf = GridSearchCV(rfc, parameters, verbose=0, error_score='raise', n_jobs=-1)\n",
    "clf.fit(x_train_trans, train['sentiment'].values)"
   ]
  },
  {
   "cell_type": "code",
   "execution_count": 40,
   "id": "9390002c",
   "metadata": {},
   "outputs": [
    {
     "data": {
      "text/html": [
       "<style>#sk-container-id-10 {color: black;background-color: white;}#sk-container-id-10 pre{padding: 0;}#sk-container-id-10 div.sk-toggleable {background-color: white;}#sk-container-id-10 label.sk-toggleable__label {cursor: pointer;display: block;width: 100%;margin-bottom: 0;padding: 0.3em;box-sizing: border-box;text-align: center;}#sk-container-id-10 label.sk-toggleable__label-arrow:before {content: \"▸\";float: left;margin-right: 0.25em;color: #696969;}#sk-container-id-10 label.sk-toggleable__label-arrow:hover:before {color: black;}#sk-container-id-10 div.sk-estimator:hover label.sk-toggleable__label-arrow:before {color: black;}#sk-container-id-10 div.sk-toggleable__content {max-height: 0;max-width: 0;overflow: hidden;text-align: left;background-color: #f0f8ff;}#sk-container-id-10 div.sk-toggleable__content pre {margin: 0.2em;color: black;border-radius: 0.25em;background-color: #f0f8ff;}#sk-container-id-10 input.sk-toggleable__control:checked~div.sk-toggleable__content {max-height: 200px;max-width: 100%;overflow: auto;}#sk-container-id-10 input.sk-toggleable__control:checked~label.sk-toggleable__label-arrow:before {content: \"▾\";}#sk-container-id-10 div.sk-estimator input.sk-toggleable__control:checked~label.sk-toggleable__label {background-color: #d4ebff;}#sk-container-id-10 div.sk-label input.sk-toggleable__control:checked~label.sk-toggleable__label {background-color: #d4ebff;}#sk-container-id-10 input.sk-hidden--visually {border: 0;clip: rect(1px 1px 1px 1px);clip: rect(1px, 1px, 1px, 1px);height: 1px;margin: -1px;overflow: hidden;padding: 0;position: absolute;width: 1px;}#sk-container-id-10 div.sk-estimator {font-family: monospace;background-color: #f0f8ff;border: 1px dotted black;border-radius: 0.25em;box-sizing: border-box;margin-bottom: 0.5em;}#sk-container-id-10 div.sk-estimator:hover {background-color: #d4ebff;}#sk-container-id-10 div.sk-parallel-item::after {content: \"\";width: 100%;border-bottom: 1px solid gray;flex-grow: 1;}#sk-container-id-10 div.sk-label:hover label.sk-toggleable__label {background-color: #d4ebff;}#sk-container-id-10 div.sk-serial::before {content: \"\";position: absolute;border-left: 1px solid gray;box-sizing: border-box;top: 0;bottom: 0;left: 50%;z-index: 0;}#sk-container-id-10 div.sk-serial {display: flex;flex-direction: column;align-items: center;background-color: white;padding-right: 0.2em;padding-left: 0.2em;position: relative;}#sk-container-id-10 div.sk-item {position: relative;z-index: 1;}#sk-container-id-10 div.sk-parallel {display: flex;align-items: stretch;justify-content: center;background-color: white;position: relative;}#sk-container-id-10 div.sk-item::before, #sk-container-id-10 div.sk-parallel-item::before {content: \"\";position: absolute;border-left: 1px solid gray;box-sizing: border-box;top: 0;bottom: 0;left: 50%;z-index: -1;}#sk-container-id-10 div.sk-parallel-item {display: flex;flex-direction: column;z-index: 1;position: relative;background-color: white;}#sk-container-id-10 div.sk-parallel-item:first-child::after {align-self: flex-end;width: 50%;}#sk-container-id-10 div.sk-parallel-item:last-child::after {align-self: flex-start;width: 50%;}#sk-container-id-10 div.sk-parallel-item:only-child::after {width: 0;}#sk-container-id-10 div.sk-dashed-wrapped {border: 1px dashed gray;margin: 0 0.4em 0.5em 0.4em;box-sizing: border-box;padding-bottom: 0.4em;background-color: white;}#sk-container-id-10 div.sk-label label {font-family: monospace;font-weight: bold;display: inline-block;line-height: 1.2em;}#sk-container-id-10 div.sk-label-container {text-align: center;}#sk-container-id-10 div.sk-container {/* jupyter's `normalize.less` sets `[hidden] { display: none; }` but bootstrap.min.css set `[hidden] { display: none !important; }` so we also need the `!important` here to be able to override the default hidden behavior on the sphinx rendered scikit-learn.org. See: https://github.com/scikit-learn/scikit-learn/issues/21755 */display: inline-block !important;position: relative;}#sk-container-id-10 div.sk-text-repr-fallback {display: none;}</style><div id=\"sk-container-id-10\" class=\"sk-top-container\"><div class=\"sk-text-repr-fallback\"><pre>RandomForestClassifier(max_depth=10, n_estimators=1000)</pre><b>In a Jupyter environment, please rerun this cell to show the HTML representation or trust the notebook. <br />On GitHub, the HTML representation is unable to render, please try loading this page with nbviewer.org.</b></div><div class=\"sk-container\" hidden><div class=\"sk-item\"><div class=\"sk-estimator sk-toggleable\"><input class=\"sk-toggleable__control sk-hidden--visually\" id=\"sk-estimator-id-24\" type=\"checkbox\" checked><label for=\"sk-estimator-id-24\" class=\"sk-toggleable__label sk-toggleable__label-arrow\">RandomForestClassifier</label><div class=\"sk-toggleable__content\"><pre>RandomForestClassifier(max_depth=10, n_estimators=1000)</pre></div></div></div></div></div>"
      ],
      "text/plain": [
       "RandomForestClassifier(max_depth=10, n_estimators=1000)"
      ]
     },
     "execution_count": 40,
     "metadata": {},
     "output_type": "execute_result"
    }
   ],
   "source": [
    "clf.best_estimator_"
   ]
  },
  {
   "cell_type": "code",
   "execution_count": 41,
   "id": "b292f114",
   "metadata": {},
   "outputs": [],
   "source": [
    "predicted_test = clf.best_estimator_.predict(x_test_trans)"
   ]
  },
  {
   "cell_type": "code",
   "execution_count": 49,
   "id": "de21808b",
   "metadata": {},
   "outputs": [
    {
     "name": "stdout",
     "output_type": "stream",
     "text": [
      "0.8506\n"
     ]
    }
   ],
   "source": [
    "rf_accuracy = metrics.accuracy_score(test['sentiment'].values, predicted_test)\n",
    "print(rf_accuracy)"
   ]
  },
  {
   "cell_type": "code",
   "execution_count": 50,
   "id": "b48f41a6",
   "metadata": {},
   "outputs": [
    {
     "name": "stdout",
     "output_type": "stream",
     "text": [
      "0.8533856722276743\n"
     ]
    }
   ],
   "source": [
    "rf_f1 = metrics.f1_score(test['sentiment'].values, predicted_test)\n",
    "print(rf_f1)"
   ]
  },
  {
   "cell_type": "markdown",
   "id": "3220f6d3",
   "metadata": {},
   "source": [
    "### LSTM with trainable embeddings"
   ]
  },
  {
   "cell_type": "code",
   "execution_count": 52,
   "id": "bb162c61",
   "metadata": {},
   "outputs": [],
   "source": [
    "class PadSequenceEmbed:\n",
    "    def __call__(self, batch, maxlen=400):\n",
    "        # each element in \"batch\" is a tuple (data, label).\n",
    "        sequences = [torch.LongTensor(x[0])[:maxlen] for x in batch]\n",
    "        sequences_padded = torch.nn.utils.rnn.pad_sequence(sequences, batch_first=True)\n",
    "        labels = torch.Tensor(list(map(lambda x: x[1], batch)))\n",
    "        lengths = torch.LongTensor([len(x) for x in sequences])\n",
    "        return sequences_padded, lengths, labels"
   ]
  },
  {
   "cell_type": "code",
   "execution_count": 53,
   "id": "fab29857",
   "metadata": {},
   "outputs": [],
   "source": [
    "dataloader_train_idx = DataLoader(list(train[['full_review_words_idx', 'sentiment']].itertuples(index=False, name = None)),\n",
    "                                  batch_size=64, shuffle=True, collate_fn=PadSequenceEmbed())\n",
    "dataloader_test_idx = DataLoader(list(test[['full_review_words_idx', 'sentiment']].itertuples(index=False, name = None)),\n",
    "                                 batch_size=64, shuffle=True, collate_fn=PadSequenceEmbed())"
   ]
  },
  {
   "cell_type": "code",
   "execution_count": 54,
   "id": "1765a7c6",
   "metadata": {},
   "outputs": [],
   "source": [
    "class LSTMSentimentEmbed(nn.Module):\n",
    "    def __init__(self, hidden_dim, vocab_size, embedding_dim=200, target_size=1):\n",
    "        super().__init__()\n",
    "        self.word_embeddings = nn.Embedding(vocab_size, embedding_dim)\n",
    "        self.lstm = nn.LSTM(embedding_dim, hidden_dim, batch_first=True)\n",
    "        self.hidden2tag = nn.Linear(hidden_dim, target_size)\n",
    "        \n",
    "    def forward(self, sentence, lengths):\n",
    "        embeds = self.word_embeddings(sentence)\n",
    "        output, _ = self.lstm(embeds)\n",
    "        last_state = output[torch.arange(len(output)), lengths - 1]\n",
    "        tag_space = self.hidden2tag(last_state).squeeze(-1)\n",
    "        tag_scores = torch.sigmoid(tag_space)\n",
    "        return tag_scores"
   ]
  },
  {
   "cell_type": "code",
   "execution_count": 55,
   "id": "3753b87f",
   "metadata": {},
   "outputs": [],
   "source": [
    "lstm_model_embed = LSTMSentimentEmbed(hidden_dim=128, vocab_size=len(word_to_idx)).to(device)"
   ]
  },
  {
   "cell_type": "code",
   "execution_count": 56,
   "id": "ccdfb8f8",
   "metadata": {},
   "outputs": [],
   "source": [
    "optimizer_text = torch.optim.Adam(lstm_model_embed.parameters(), lr=0.001)\n",
    "scheduler_text = torch.optim.lr_scheduler.ExponentialLR(optimizer_text, gamma=0.85)"
   ]
  },
  {
   "cell_type": "code",
   "execution_count": null,
   "id": "746fe5b4",
   "metadata": {},
   "outputs": [],
   "source": []
  },
  {
   "cell_type": "code",
   "execution_count": 57,
   "id": "d7879729",
   "metadata": {},
   "outputs": [],
   "source": [
    "def training(dataloader, model, optimizer, scheduler,  epochs_number = 30):\n",
    "    loss = nn.BCELoss()\n",
    "\n",
    "    epochs_number = 30\n",
    "    losses = []\n",
    "    running_loss = 0.\n",
    "    last_loss = 0.\n",
    "\n",
    "    model.train()\n",
    "    start_time = time.time()\n",
    "\n",
    "    for epoch in range(epochs_number):\n",
    "        running_loss = 0.\n",
    "        epoch_start_time = time.time()\n",
    "        print('Epoch : {}'.format(epoch+1))\n",
    "\n",
    "        trainLoss = 0.\n",
    "        correct = 0\n",
    "        train_losses_epoch = []\n",
    "        for ii, data in enumerate(dataloader):\n",
    "\n",
    "            train_features, lengths, train_labels = data\n",
    "            optimizer.zero_grad()\n",
    "\n",
    "            X_pred = model(train_features.to(device), lengths.to(device))\n",
    "            bceloss = loss(X_pred, train_labels.to(device))\n",
    "            bceloss.backward()\n",
    "            optimizer.step()\n",
    "            running_loss += bceloss.item()\n",
    "        losses.append(running_loss / len(dataloader))\n",
    "        clear_output(wait=True)\n",
    "        plt.plot(np.array(losses))\n",
    "        plt.show()\n",
    "        print(running_loss / len(dataloader))\n",
    "        scheduler.step()\n",
    "\n",
    "    print(f'\\nDuration: {time.time() - start_time:.0f} seconds')\n",
    "    return losses\n"
   ]
  },
  {
   "cell_type": "code",
   "execution_count": 46,
   "id": "7e9b28c2",
   "metadata": {},
   "outputs": [
    {
     "data": {
      "image/png": "[encoded data removed]",
      "text/plain": [
       "<Figure size 640x480 with 1 Axes>"
      ]
     },
     "metadata": {},
     "output_type": "display_data"
    },
    {
     "name": "stdout",
     "output_type": "stream",
     "text": [
      "0.017251855122109354\n",
      "\n",
      "Duration: 406 seconds\n"
     ]
    }
   ],
   "source": [
    "losses = training(dataloader_train_idx, lstm_model_embed, optimizer_text, scheduler_text)"
   ]
  },
  {
   "cell_type": "code",
   "execution_count": 60,
   "id": "ee99c529",
   "metadata": {},
   "outputs": [],
   "source": [
    "from sklearn import metrics\n",
    "\n",
    "def validation(dataloader, model, skmetrics = (metrics.f1_score, metrics.accuracy_score)):\n",
    "    model.eval()\n",
    "    loss = nn.BCELoss()\n",
    "    predictions = []\n",
    "    labels = []\n",
    "    metrics_dict = {}\n",
    "\n",
    "    with torch.no_grad(): \n",
    "        running_loss = 0.\n",
    "        running_acc = 0.\n",
    "        for ii, data in enumerate(dataloader):\n",
    "\n",
    "            train_features, lengths, train_labels = data\n",
    "\n",
    "            X_pred = model(train_features.to(device), lengths.to(device))\n",
    "            predictions.extend((X_pred.cpu() > 0.5).numpy().tolist())\n",
    "            labels.extend(train_labels.numpy().tolist())\n",
    "            bceloss = loss(X_pred, train_labels.to(device))\n",
    "            running_loss += bceloss.item()\n",
    "\n",
    "        mean_loss = running_loss / len(dataloader)\n",
    "        print(\"loss:\",mean_loss)\n",
    "        labels = np.array(labels)\n",
    "        predictions = np.array(predictions)\n",
    "        \n",
    "        for metr in skmetrics:\n",
    "            metrics_dict[metr.__name__] = metr(labels, predictions)\n",
    "        print(metrics_dict)\n",
    "\n",
    "    return mean_loss, metrics_dict"
   ]
  },
  {
   "cell_type": "code",
   "execution_count": 61,
   "id": "ecd779a3",
   "metadata": {},
   "outputs": [
    {
     "name": "stdout",
     "output_type": "stream",
     "text": [
      "loss: 0.016791594172172398\n",
      "{'f1_score': 0.99584729501389, 'accuracy_score': 0.9958571428571429}\n"
     ]
    }
   ],
   "source": [
    "mean_loss_emb_train, metrics_emb_train = validation(dataloader_train_idx,lstm_model_embed)"
   ]
  },
  {
   "cell_type": "code",
   "execution_count": 62,
   "id": "90de5713",
   "metadata": {},
   "outputs": [
    {
     "name": "stdout",
     "output_type": "stream",
     "text": [
      "loss: 0.5644659776636894\n",
      "{'f1_score': 0.8799307036247335, 'accuracy_score': 0.8798666666666667}\n"
     ]
    }
   ],
   "source": [
    "mean_loss_emb_test, metrics_emb_test = validation(dataloader_test_idx,lstm_model_embed)"
   ]
  },
  {
   "cell_type": "code",
   "execution_count": 66,
   "id": "5988c488",
   "metadata": {},
   "outputs": [],
   "source": [
    "#torch.save(lstm_model_embed.state_dict(), \"LSTM_embed.pt\")"
   ]
  },
  {
   "cell_type": "code",
   "execution_count": 59,
   "id": "e06146e7",
   "metadata": {},
   "outputs": [
    {
     "data": {
      "text/plain": [
       "<All keys matched successfully>"
      ]
     },
     "execution_count": 59,
     "metadata": {},
     "output_type": "execute_result"
    }
   ],
   "source": [
    "#lstm_model_embed.load_state_dict(torch.load(\"LSTM_embed.pt\"))"
   ]
  },
  {
   "cell_type": "markdown",
   "id": "13409952",
   "metadata": {},
   "source": [
    "We see that the test loss is much higher, and we have 88% accuracy"
   ]
  },
  {
   "cell_type": "markdown",
   "id": "889587d4",
   "metadata": {},
   "source": [
    "### LSTM with glove"
   ]
  },
  {
   "cell_type": "code",
   "execution_count": 63,
   "id": "23ae4be9",
   "metadata": {},
   "outputs": [],
   "source": [
    "class PadSequence:\n",
    "    def __call__(self, batch, maxlen=400):\n",
    "        # each element in \"batch\" is a tuple (data, label).\n",
    "        sequences = [torch.FloatTensor(x[0])[:maxlen] for x in batch]\n",
    "        sequences_padded = torch.nn.utils.rnn.pad_sequence(sequences, batch_first=True)\n",
    "        labels = torch.Tensor(list(map(lambda x: x[1], batch)))\n",
    "        lengths = torch.LongTensor([len(x) for x in sequences])\n",
    "        return sequences_padded, lengths, labels"
   ]
  },
  {
   "cell_type": "code",
   "execution_count": 64,
   "id": "3ffa3079",
   "metadata": {},
   "outputs": [],
   "source": [
    "dataloader_train_glove = DataLoader(list(train[['full_review_glove', 'sentiment']].itertuples(index=False, name = None)),\n",
    "                                    batch_size=64, shuffle=True, collate_fn=PadSequence())\n",
    "dataloader_test_glove = DataLoader(list(test[['full_review_glove', 'sentiment']].itertuples(index=False, name = None)),\n",
    "                                   batch_size=64, shuffle=True, collate_fn=PadSequence())"
   ]
  },
  {
   "cell_type": "code",
   "execution_count": 65,
   "id": "1ab4182d",
   "metadata": {},
   "outputs": [],
   "source": [
    "class LSTMSentiment(nn.Module):\n",
    "    def __init__(self, hidden_dim, embedding_dim=200, target_size=1):\n",
    "        super(LSTMSentiment, self).__init__()\n",
    "        self.lstm = nn.LSTM(embedding_dim, hidden_dim, batch_first=True)\n",
    "        self.hidden2tag = nn.Linear(hidden_dim, target_size)\n",
    "        \n",
    "    def forward(self, embeds_in_review, lengths):\n",
    "        output, _ = self.lstm(embeds_in_review)\n",
    "        last_state = output[torch.arange(len(output)), lengths - 1]\n",
    "        tag_space = self.hidden2tag(last_state).squeeze(-1)\n",
    "        tag_scores = torch.sigmoid(tag_space)\n",
    "        return tag_scores"
   ]
  },
  {
   "cell_type": "code",
   "execution_count": 66,
   "id": "67464a65",
   "metadata": {},
   "outputs": [],
   "source": [
    "lstm_model = LSTMSentiment(128).to(device)\n",
    "optimizer_text = torch.optim.Adam(lstm_model.parameters(), lr=0.001)\n",
    "scheduler_text = torch.optim.lr_scheduler.ExponentialLR(optimizer_text, gamma=0.85)"
   ]
  },
  {
   "cell_type": "code",
   "execution_count": 35,
   "id": "0e56fdbe",
   "metadata": {},
   "outputs": [
    {
     "data": {
      "image/png": "[encoded data removed]",
      "text/plain": [
       "<Figure size 640x480 with 1 Axes>"
      ]
     },
     "metadata": {},
     "output_type": "display_data"
    },
    {
     "name": "stdout",
     "output_type": "stream",
     "text": [
      "0.1321176792983599\n",
      "\n",
      "Duration: 329 seconds\n"
     ]
    }
   ],
   "source": [
    "losses = training(dataloader_train_glove, lstm_model, optimizer_text, scheduler_text)"
   ]
  },
  {
   "cell_type": "code",
   "execution_count": 68,
   "id": "720667ee",
   "metadata": {},
   "outputs": [
    {
     "name": "stdout",
     "output_type": "stream",
     "text": [
      "loss: 0.13106707015314856\n",
      "{'f1_score': 0.9531641247439109, 'accuracy_score': 0.9529714285714286}\n"
     ]
    }
   ],
   "source": [
    "mean_loss_glove_train, metrics_glove_train = validation(dataloader_train_glove,lstm_model)"
   ]
  },
  {
   "cell_type": "code",
   "execution_count": 69,
   "id": "6885c394",
   "metadata": {},
   "outputs": [
    {
     "name": "stdout",
     "output_type": "stream",
     "text": [
      "loss: 0.310593178139088\n",
      "{'f1_score': 0.8880324274038143, 'accuracy_score': 0.8876666666666667}\n"
     ]
    }
   ],
   "source": [
    "mean_loss_glove, metrics_glove = validation(dataloader_test_glove,lstm_model)"
   ]
  },
  {
   "cell_type": "code",
   "execution_count": 40,
   "id": "c0410ed8",
   "metadata": {},
   "outputs": [],
   "source": [
    "#torch.save(lstm_model.state_dict(), \"LSTM_glove.pt\")"
   ]
  },
  {
   "cell_type": "code",
   "execution_count": 67,
   "id": "8e1f9ccb",
   "metadata": {},
   "outputs": [
    {
     "data": {
      "text/plain": [
       "<All keys matched successfully>"
      ]
     },
     "execution_count": 67,
     "metadata": {},
     "output_type": "execute_result"
    }
   ],
   "source": [
    "#lstm_model.load_state_dict(torch.load(\"LSTM_glove.pt\"))"
   ]
  },
  {
   "cell_type": "markdown",
   "id": "df31047b",
   "metadata": {},
   "source": [
    "After the same amount of training with the same learning rate, glove model attained higher training loss and lower training accuracy, but lower test loss and slightly higher test accuracy. It is reasonable result. From one hand, model with less parameters is less prone to overfitting. From the other hand, embeddings pretrained from a large text corpus are more generalizable."
   ]
  },
  {
   "cell_type": "markdown",
   "id": "54f976bf",
   "metadata": {},
   "source": [
    "## Transfer Learning"
   ]
  },
  {
   "cell_type": "code",
   "execution_count": 42,
   "id": "dcf570ca",
   "metadata": {},
   "outputs": [],
   "source": [
    "#using hugging face libraries (uncomment to install)\n",
    "#!pip install 'transformers[torch]'\n",
    "#!pip install datasets\n",
    "#!pip install evaluate"
   ]
  },
  {
   "cell_type": "code",
   "execution_count": 70,
   "id": "20dabe6d",
   "metadata": {},
   "outputs": [],
   "source": [
    "import torch\n",
    "from datasets import Dataset\n",
    "from transformers import TrainingArguments, Trainer\n",
    "from transformers import AutoTokenizer, DataCollatorWithPadding, AutoModelForSequenceClassification"
   ]
  },
  {
   "cell_type": "code",
   "execution_count": 71,
   "id": "8285fe1c",
   "metadata": {},
   "outputs": [],
   "source": [
    "imdb_data_hugg = pd.read_csv('IMDB Dataset.csv')\n",
    "imdb_data_hugg.columns = [\"text\", \"label\"]\n",
    "imdb_data_hugg['label'] = imdb_data_hugg['label'].apply(lambda x: 1 if (x==\"positive\" or x==1) else 0)\n"
   ]
  },
  {
   "cell_type": "code",
   "execution_count": 72,
   "id": "e66769d3",
   "metadata": {},
   "outputs": [],
   "source": [
    "random_state = np.random.RandomState(192)\n",
    "imdb_dataset = Dataset.from_pandas(imdb_data_hugg)\n",
    "imdb_dataset_spl = imdb_dataset.train_test_split(test_size=0.3,generator=random_state) ##same split as for LSTM"
   ]
  },
  {
   "cell_type": "code",
   "execution_count": 73,
   "id": "3fc821af",
   "metadata": {},
   "outputs": [],
   "source": [
    "# Define the evaluation metrics \n",
    "import numpy as np\n",
    "from datasets import load_metric\n",
    "\n",
    "def compute_metrics(eval_pred):\n",
    "    load_accuracy = load_metric(\"accuracy\")\n",
    "    load_f1 = load_metric(\"f1\")\n",
    "    \n",
    "    logits, labels = eval_pred\n",
    "    predictions = np.argmax(logits, axis=-1)\n",
    "    accuracy = load_accuracy.compute(predictions=predictions, references=labels)[\"accuracy\"]\n",
    "    f1 = load_f1.compute(predictions=predictions, references=labels)[\"f1\"]\n",
    "    return {\"accuracy\": accuracy, \"f1\": f1}"
   ]
  },
  {
   "cell_type": "markdown",
   "id": "b98ed074",
   "metadata": {},
   "source": [
    "### DistilBERT"
   ]
  },
  {
   "cell_type": "code",
   "execution_count": 74,
   "id": "48ab44ed",
   "metadata": {},
   "outputs": [],
   "source": [
    "tokenizer = AutoTokenizer.from_pretrained(\"distilbert-base-uncased\")"
   ]
  },
  {
   "cell_type": "code",
   "execution_count": 75,
   "id": "359418b3",
   "metadata": {},
   "outputs": [
    {
     "data": {
      "application/vnd.jupyter.widget-view+json": {
       "model_id": "5cb71028c7074f2d88be04d30f5cd4ba",
       "version_major": 2,
       "version_minor": 0
      },
      "text/plain": [
       "Map:   0%|          | 0/35000 [00:00<?, ? examples/s]"
      ]
     },
     "metadata": {},
     "output_type": "display_data"
    },
    {
     "data": {
      "application/vnd.jupyter.widget-view+json": {
       "model_id": "2a9ba4aaf77146dbbb99efbf0196e862",
       "version_major": 2,
       "version_minor": 0
      },
      "text/plain": [
       "Map:   0%|          | 0/15000 [00:00<?, ? examples/s]"
      ]
     },
     "metadata": {},
     "output_type": "display_data"
    }
   ],
   "source": [
    "# Prepare the text inputs for the model\n",
    "def preprocess_function(examples):\n",
    "    return tokenizer(examples[\"text\"], truncation=True, padding=True)\n",
    "\n",
    "tokenized_train = imdb_dataset_spl[\"train\"].map(preprocess_function, batched=True)\n",
    "tokenized_test = imdb_dataset_spl[\"test\"].map(preprocess_function, batched=True)"
   ]
  },
  {
   "cell_type": "code",
   "execution_count": 76,
   "id": "5250bff6",
   "metadata": {},
   "outputs": [
    {
     "name": "stderr",
     "output_type": "stream",
     "text": [
      "Some weights of DistilBertForSequenceClassification were not initialized from the model checkpoint at distilbert-base-uncased and are newly initialized: ['pre_classifier.weight', 'pre_classifier.bias', 'classifier.bias', 'classifier.weight']\n",
      "You should probably TRAIN this model on a down-stream task to be able to use it for predictions and inference.\n"
     ]
    }
   ],
   "source": [
    "model = AutoModelForSequenceClassification.from_pretrained(\"distilbert-base-uncased\", num_labels=2, device_map='cuda')"
   ]
  },
  {
   "cell_type": "code",
   "execution_count": 77,
   "id": "c60d1388",
   "metadata": {},
   "outputs": [],
   "source": [
    "data_collator = DataCollatorWithPadding(tokenizer=tokenizer)"
   ]
  },
  {
   "cell_type": "code",
   "execution_count": 78,
   "id": "4dbc1a97",
   "metadata": {},
   "outputs": [],
   "source": [
    "repo_name = \"finetuning-distilbert\"\n",
    "\n",
    "training_args = TrainingArguments(\n",
    "    output_dir=repo_name,\n",
    "    learning_rate=2e-5,\n",
    "    per_device_train_batch_size=16,\n",
    "    per_device_eval_batch_size=16,\n",
    "    num_train_epochs=4,\n",
    "    weight_decay=0.01, ##corresponds to original model\n",
    "    save_strategy=\"epoch\", \n",
    "    push_to_hub=False,\n",
    "    report_to=[],\n",
    ")\n",
    "\n",
    "trainer = Trainer(\n",
    "    model=model,\n",
    "    args=training_args,\n",
    "    train_dataset=tokenized_train,\n",
    "    eval_dataset=tokenized_test,\n",
    "    tokenizer=tokenizer,\n",
    "    data_collator=data_collator,\n",
    "    compute_metrics=compute_metrics,\n",
    ")"
   ]
  },
  {
   "cell_type": "code",
   "execution_count": 37,
   "id": "fd35a53d",
   "metadata": {},
   "outputs": [
    {
     "name": "stderr",
     "output_type": "stream",
     "text": [
      "You're using a DistilBertTokenizerFast tokenizer. Please note that with a fast tokenizer, using the `__call__` method is faster than using a method to encode the text followed by a call to the `pad` method to get a padded encoding.\n"
     ]
    },
    {
     "data": {
      "text/html": [
       "\n",
       "    <div>\n",
       "      \n",
       "      <progress value='6026' max='8752' style='width:300px; height:20px; vertical-align: middle;'></progress>\n",
       "      [6026/8752 44:33 < 20:09, 2.25 it/s, Epoch 2.75/4]\n",
       "    </div>\n",
       "    <table border=\"1\" class=\"dataframe\">\n",
       "  <thead>\n",
       " <tr style=\"text-align: left;\">\n",
       "      <th>Step</th>\n",
       "      <th>Training Loss</th>\n",
       "    </tr>\n",
       "  </thead>\n",
       "  <tbody>\n",
       "    <tr>\n",
       "      <td>500</td>\n",
       "      <td>0.319300</td>\n",
       "    </tr>\n",
       "    <tr>\n",
       "      <td>1000</td>\n",
       "      <td>0.237900</td>\n",
       "    </tr>\n",
       "    <tr>\n",
       "      <td>1500</td>\n",
       "      <td>0.224800</td>\n",
       "    </tr>\n",
       "    <tr>\n",
       "      <td>2000</td>\n",
       "      <td>0.212500</td>\n",
       "    </tr>\n",
       "    <tr>\n",
       "      <td>2500</td>\n",
       "      <td>0.167500</td>\n",
       "    </tr>\n",
       "    <tr>\n",
       "      <td>3000</td>\n",
       "      <td>0.149000</td>\n",
       "    </tr>\n",
       "    <tr>\n",
       "      <td>3500</td>\n",
       "      <td>0.143000</td>\n",
       "    </tr>\n",
       "    <tr>\n",
       "      <td>4000</td>\n",
       "      <td>0.128100</td>\n",
       "    </tr>\n",
       "    <tr>\n",
       "      <td>4500</td>\n",
       "      <td>0.136100</td>\n",
       "    </tr>\n",
       "    <tr>\n",
       "      <td>5000</td>\n",
       "      <td>0.075000</td>\n",
       "    </tr>\n",
       "    <tr>\n",
       "      <td>5500</td>\n",
       "      <td>0.079600</td>\n",
       "    </tr>\n",
       "    <tr>\n",
       "      <td>6000</td>\n",
       "      <td>0.077700</td>\n",
       "    </tr>\n",
       "    <tr>\n",
       "      <td>6025</td>\n",
       "      <td>0.077700</td>\n",
       "    </tr>\n",
       "  </tbody>\n",
       "</table><p>"
      ],
      "text/plain": [
       "<IPython.core.display.HTML object>"
      ]
     },
     "metadata": {},
     "output_type": "display_data"
    },
    {
     "ename": "KeyboardInterrupt",
     "evalue": "",
     "output_type": "error",
     "traceback": [
      "\u001b[0;31mKeyboardInterrupt\u001b[0m: "
     ]
    }
   ],
   "source": [
    "# Train the model\n",
    "trainer.train()\n",
    "##we stopped after ~3 epochs"
   ]
  },
  {
   "cell_type": "code",
   "execution_count": 91,
   "id": "1f29e744",
   "metadata": {},
   "outputs": [],
   "source": [
    "# Compute the evaluation metrics\n",
    "distilbert_metrics = trainer.evaluate()\n"
   ]
  },
  {
   "cell_type": "code",
   "execution_count": 90,
   "id": "ba898920",
   "metadata": {},
   "outputs": [
    {
     "data": {
      "text/plain": [
       "{'eval_loss': 0.2953391373157501,\n",
       " 'eval_accuracy': 0.9344666666666667,\n",
       " 'eval_f1': 0.9346105235149338,\n",
       " 'eval_runtime': 175.0545,\n",
       " 'eval_samples_per_second': 85.688,\n",
       " 'eval_steps_per_second': 5.358}"
      ]
     },
     "execution_count": 90,
     "metadata": {},
     "output_type": "execute_result"
    }
   ],
   "source": [
    "distilbert_metrics"
   ]
  },
  {
   "cell_type": "code",
   "execution_count": 39,
   "id": "b803f268",
   "metadata": {},
   "outputs": [],
   "source": [
    "#torch.save(model.state_dict(), \"distilbert.pt\")"
   ]
  },
  {
   "cell_type": "code",
   "execution_count": 79,
   "id": "6b2a9b6b",
   "metadata": {},
   "outputs": [
    {
     "data": {
      "text/plain": [
       "<All keys matched successfully>"
      ]
     },
     "execution_count": 79,
     "metadata": {},
     "output_type": "execute_result"
    }
   ],
   "source": [
    "#model.load_state_dict(torch.load(\"distilbert.pt\"))"
   ]
  },
  {
   "cell_type": "markdown",
   "id": "af52a4b2",
   "metadata": {},
   "source": [
    "### RoBERTa"
   ]
  },
  {
   "cell_type": "code",
   "execution_count": 81,
   "id": "e206715e",
   "metadata": {},
   "outputs": [],
   "source": [
    "model = None\n",
    "torch.cuda.empty_cache()  ##free gpu memory, we'll need it"
   ]
  },
  {
   "cell_type": "code",
   "execution_count": 82,
   "id": "ea2978da",
   "metadata": {},
   "outputs": [],
   "source": [
    "tokenizer = AutoTokenizer.from_pretrained(\"roberta-base\")"
   ]
  },
  {
   "cell_type": "code",
   "execution_count": 83,
   "id": "840fc302",
   "metadata": {},
   "outputs": [
    {
     "data": {
      "application/vnd.jupyter.widget-view+json": {
       "model_id": "056fb6d568e04e0ea089e8fa229fdffc",
       "version_major": 2,
       "version_minor": 0
      },
      "text/plain": [
       "Map:   0%|          | 0/35000 [00:00<?, ? examples/s]"
      ]
     },
     "metadata": {},
     "output_type": "display_data"
    },
    {
     "data": {
      "application/vnd.jupyter.widget-view+json": {
       "model_id": "2d323454180d49daa606e6b17ed6d525",
       "version_major": 2,
       "version_minor": 0
      },
      "text/plain": [
       "Map:   0%|          | 0/15000 [00:00<?, ? examples/s]"
      ]
     },
     "metadata": {},
     "output_type": "display_data"
    }
   ],
   "source": [
    "# Prepare the text inputs for the model\n",
    "def preprocess_function(examples):\n",
    "    return tokenizer(examples[\"text\"], truncation=True, padding=True)\n",
    "\n",
    "tokenized_train = imdb_dataset_spl[\"train\"].map(preprocess_function, batched=True)\n",
    "tokenized_test = imdb_dataset_spl[\"test\"].map(preprocess_function, batched=True)"
   ]
  },
  {
   "cell_type": "code",
   "execution_count": 84,
   "id": "b02bca2a",
   "metadata": {},
   "outputs": [
    {
     "name": "stderr",
     "output_type": "stream",
     "text": [
      "Some weights of RobertaForSequenceClassification were not initialized from the model checkpoint at roberta-base and are newly initialized: ['classifier.out_proj.weight', 'classifier.out_proj.bias', 'classifier.dense.weight', 'classifier.dense.bias']\n",
      "You should probably TRAIN this model on a down-stream task to be able to use it for predictions and inference.\n"
     ]
    }
   ],
   "source": [
    "model = AutoModelForSequenceClassification.from_pretrained(\"roberta-base\", num_labels=2, device_map='cuda')"
   ]
  },
  {
   "cell_type": "code",
   "execution_count": 85,
   "id": "80cbff80",
   "metadata": {},
   "outputs": [],
   "source": [
    "data_collator = DataCollatorWithPadding(tokenizer=tokenizer)"
   ]
  },
  {
   "cell_type": "code",
   "execution_count": 86,
   "id": "2145ae2e",
   "metadata": {},
   "outputs": [],
   "source": [
    "repo_name = \"finetuning-roberta\"\n",
    "\n",
    "training_args = TrainingArguments(\n",
    "    output_dir=repo_name,\n",
    "    learning_rate=2e-5,\n",
    "    per_device_train_batch_size=8,\n",
    "    per_device_eval_batch_size=8,\n",
    "    gradient_accumulation_steps=4,\n",
    "    num_train_epochs=3,\n",
    "    weight_decay=0.01, ##corresponds to original model\n",
    "    save_strategy=\"epoch\", \n",
    "    push_to_hub=False,\n",
    "    report_to=[],\n",
    ")\n",
    "\n",
    "trainer = Trainer(\n",
    "    model=model,\n",
    "    args=training_args,\n",
    "    train_dataset=tokenized_train,\n",
    "    eval_dataset=tokenized_test,\n",
    "    tokenizer=tokenizer,\n",
    "    data_collator=data_collator,\n",
    "    compute_metrics=compute_metrics,\n",
    ")"
   ]
  },
  {
   "cell_type": "code",
   "execution_count": 56,
   "id": "e504e1fe",
   "metadata": {},
   "outputs": [
    {
     "name": "stderr",
     "output_type": "stream",
     "text": [
      "You're using a RobertaTokenizerFast tokenizer. Please note that with a fast tokenizer, using the `__call__` method is faster than using a method to encode the text followed by a call to the `pad` method to get a padded encoding.\n"
     ]
    },
    {
     "data": {
      "text/html": [
       "\n",
       "    <div>\n",
       "      \n",
       "      <progress value='3279' max='3279' style='width:300px; height:20px; vertical-align: middle;'></progress>\n",
       "      [3279/3279 1:32:38, Epoch 2/3]\n",
       "    </div>\n",
       "    <table border=\"1\" class=\"dataframe\">\n",
       "  <thead>\n",
       " <tr style=\"text-align: left;\">\n",
       "      <th>Step</th>\n",
       "      <th>Training Loss</th>\n",
       "    </tr>\n",
       "  </thead>\n",
       "  <tbody>\n",
       "    <tr>\n",
       "      <td>500</td>\n",
       "      <td>0.237900</td>\n",
       "    </tr>\n",
       "    <tr>\n",
       "      <td>1000</td>\n",
       "      <td>0.171400</td>\n",
       "    </tr>\n",
       "    <tr>\n",
       "      <td>1500</td>\n",
       "      <td>0.122300</td>\n",
       "    </tr>\n",
       "    <tr>\n",
       "      <td>2000</td>\n",
       "      <td>0.112000</td>\n",
       "    </tr>\n",
       "    <tr>\n",
       "      <td>2500</td>\n",
       "      <td>0.087700</td>\n",
       "    </tr>\n",
       "    <tr>\n",
       "      <td>3000</td>\n",
       "      <td>0.069400</td>\n",
       "    </tr>\n",
       "  </tbody>\n",
       "</table><p>"
      ],
      "text/plain": [
       "<IPython.core.display.HTML object>"
      ]
     },
     "metadata": {},
     "output_type": "display_data"
    },
    {
     "data": {
      "text/plain": [
       "TrainOutput(global_step=3279, training_loss=0.12801954520115877, metrics={'train_runtime': 5559.7236, 'train_samples_per_second': 18.886, 'train_steps_per_second': 0.59, 'total_flos': 2.760771681681408e+16, 'train_loss': 0.12801954520115877, 'epoch': 3.0})"
      ]
     },
     "execution_count": 56,
     "metadata": {},
     "output_type": "execute_result"
    }
   ],
   "source": [
    "trainer.train()"
   ]
  },
  {
   "cell_type": "code",
   "execution_count": 88,
   "id": "557cac2d",
   "metadata": {},
   "outputs": [
    {
     "name": "stderr",
     "output_type": "stream",
     "text": [
      "You're using a RobertaTokenizerFast tokenizer. Please note that with a fast tokenizer, using the `__call__` method is faster than using a method to encode the text followed by a call to the `pad` method to get a padded encoding.\n"
     ]
    },
    {
     "data": {
      "text/html": [
       "\n",
       "    <div>\n",
       "      \n",
       "      <progress value='1875' max='1875' style='width:300px; height:20px; vertical-align: middle;'></progress>\n",
       "      [1875/1875 05:16]\n",
       "    </div>\n",
       "    "
      ],
      "text/plain": [
       "<IPython.core.display.HTML object>"
      ]
     },
     "metadata": {},
     "output_type": "display_data"
    }
   ],
   "source": [
    "roberta_metrics = trainer.evaluate()"
   ]
  },
  {
   "cell_type": "code",
   "execution_count": 89,
   "id": "ea0c0608",
   "metadata": {},
   "outputs": [
    {
     "data": {
      "text/plain": [
       "{'eval_loss': 0.17199577391147614,\n",
       " 'eval_accuracy': 0.9568666666666666,\n",
       " 'eval_f1': 0.9573528442423043,\n",
       " 'eval_runtime': 317.7496,\n",
       " 'eval_samples_per_second': 47.207,\n",
       " 'eval_steps_per_second': 5.901}"
      ]
     },
     "execution_count": 89,
     "metadata": {},
     "output_type": "execute_result"
    }
   ],
   "source": [
    "roberta_metrics"
   ]
  },
  {
   "cell_type": "code",
   "execution_count": 58,
   "id": "67653fba",
   "metadata": {},
   "outputs": [],
   "source": [
    "#torch.save(model.state_dict(), \"roberta.pt\")"
   ]
  },
  {
   "cell_type": "code",
   "execution_count": 87,
   "id": "149e76e3",
   "metadata": {},
   "outputs": [
    {
     "data": {
      "text/plain": [
       "<All keys matched successfully>"
      ]
     },
     "execution_count": 87,
     "metadata": {},
     "output_type": "execute_result"
    }
   ],
   "source": [
    "#model.load_state_dict(torch.load(\"roberta.pt\"))"
   ]
  },
  {
   "cell_type": "markdown",
   "id": "e87aa807",
   "metadata": {},
   "source": [
    "After similar amount of training epochs (though with approximately twice the computational resources), Roberta shows better generalization than distilbert. With the comparable training loss, eval loss is substantially lower, and accuracy is 95.7%, compared to 93.4% from distilbert. I didn't try to find the optimal stopping parameters and just tuned the models for a few epochs."
   ]
  },
  {
   "cell_type": "code",
   "execution_count": 92,
   "id": "279eb227",
   "metadata": {},
   "outputs": [],
   "source": [
    "metrics_dict = {'model' : ['Tf-Idf + RandomForest', 'LSTM', 'LSTM+glove', 'DistilBERT', 'RoBERTa'],\n",
    "        'accuracy' : [rf_accuracy, metrics_emb_test['accuracy_score'], metrics_glove['accuracy_score'], \n",
    "                      distilbert_metrics['eval_accuracy'], roberta_metrics['eval_accuracy']],\n",
    "        'f1_score' : [rf_f1, metrics_emb_test['f1_score'], metrics_glove['f1_score'], \n",
    "                      distilbert_metrics['eval_f1'], roberta_metrics['eval_f1']]}"
   ]
  },
  {
   "cell_type": "code",
   "execution_count": 93,
   "id": "9ae40545",
   "metadata": {},
   "outputs": [
    {
     "data": {
      "text/html": [
       "<div>\n",
       "<style scoped>\n",
       "    .dataframe tbody tr th:only-of-type {\n",
       "        vertical-align: middle;\n",
       "    }\n",
       "\n",
       "    .dataframe tbody tr th {\n",
       "        vertical-align: top;\n",
       "    }\n",
       "\n",
       "    .dataframe thead th {\n",
       "        text-align: right;\n",
       "    }\n",
       "</style>\n",
       "<table border=\"1\" class=\"dataframe\">\n",
       "  <thead>\n",
       "    <tr style=\"text-align: right;\">\n",
       "      <th></th>\n",
       "      <th>model</th>\n",
       "      <th>accuracy</th>\n",
       "      <th>f1_score</th>\n",
       "    </tr>\n",
       "  </thead>\n",
       "  <tbody>\n",
       "    <tr>\n",
       "      <th>0</th>\n",
       "      <td>Tf-Idf + RandomForest</td>\n",
       "      <td>0.850600</td>\n",
       "      <td>0.853386</td>\n",
       "    </tr>\n",
       "    <tr>\n",
       "      <th>1</th>\n",
       "      <td>LSTM</td>\n",
       "      <td>0.879867</td>\n",
       "      <td>0.879931</td>\n",
       "    </tr>\n",
       "    <tr>\n",
       "      <th>2</th>\n",
       "      <td>LSTM+glove</td>\n",
       "      <td>0.887667</td>\n",
       "      <td>0.888032</td>\n",
       "    </tr>\n",
       "    <tr>\n",
       "      <th>3</th>\n",
       "      <td>DistilBERT</td>\n",
       "      <td>0.934467</td>\n",
       "      <td>0.934611</td>\n",
       "    </tr>\n",
       "    <tr>\n",
       "      <th>4</th>\n",
       "      <td>RoBERTa</td>\n",
       "      <td>0.956867</td>\n",
       "      <td>0.957353</td>\n",
       "    </tr>\n",
       "  </tbody>\n",
       "</table>\n",
       "</div>"
      ],
      "text/plain": [
       "                   model  accuracy  f1_score\n",
       "0  Tf-Idf + RandomForest  0.850600  0.853386\n",
       "1                   LSTM  0.879867  0.879931\n",
       "2             LSTM+glove  0.887667  0.888032\n",
       "3             DistilBERT  0.934467  0.934611\n",
       "4                RoBERTa  0.956867  0.957353"
      ]
     },
     "execution_count": 93,
     "metadata": {},
     "output_type": "execute_result"
    }
   ],
   "source": [
    "pd.DataFrame(metrics_dict)"
   ]
  },
  {
   "cell_type": "code",
   "execution_count": null,
   "id": "0ec2d7dc",
   "metadata": {},
   "outputs": [],
   "source": []
  }
 ],
 "metadata": {
  "kernelspec": {
   "display_name": "Python [conda env:torch]",
   "language": "python",
   "name": "conda-env-torch-py"
  },
  "language_info": {
   "codemirror_mode": {
    "name": "ipython",
    "version": 3
   },
   "file_extension": ".py",
   "mimetype": "text/x-python",
   "name": "python",
   "nbconvert_exporter": "python",
   "pygments_lexer": "ipython3",
   "version": "3.10.8"
  }
 },
 "nbformat": 4,
 "nbformat_minor": 5
}
